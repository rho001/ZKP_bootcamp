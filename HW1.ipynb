{
 "cells": [
  {
   "cell_type": "code",
   "execution_count": 1,
   "id": "5d0cb2c7-6599-4e3c-b573-3b46a660c3da",
   "metadata": {},
   "outputs": [],
   "source": [
    "import numpy as np\n",
    "\n",
    "p = 71"
   ]
  },
  {
   "cell_type": "code",
   "execution_count": 2,
   "id": "1c629489-761b-4265-8888-767477bce9fd",
   "metadata": {},
   "outputs": [
    {
     "name": "stdout",
     "output_type": "stream",
     "text": [
      "[70, 67, 53, 3]\n"
     ]
    }
   ],
   "source": [
    "numbers = [-1, -4, -160, 500]\n",
    "\n",
    "# List comprehension to compute mod p and print\n",
    "print([num % p for num in numbers])"
   ]
  },
  {
   "cell_type": "code",
   "execution_count": 3,
   "id": "2c8ed756-a334-4340-8064-750217f46f01",
   "metadata": {},
   "outputs": [],
   "source": [
    "def mod_inverse(a, p):\n",
    "    return pow(int(a), -1, p)\n",
    "\n",
    "def mod_fraction(numerator, denominator, p):\n",
    "    numerator %= p\n",
    "    denominator %= p\n",
    "    return (numerator * mod_inverse(denominator, p)) % p"
   ]
  },
  {
   "cell_type": "code",
   "execution_count": 4,
   "id": "8e671bc8-8372-47fb-bbd7-10b6d4bfcbb5",
   "metadata": {},
   "outputs": [],
   "source": [
    "# Define rationals as (numerator, denominator)\n",
    "def abc_add(a,b,c):\n",
    "    # Compute elements in finite field\n",
    "    a_mod = mod_fraction(*a, p)\n",
    "    b_mod = mod_fraction(*b, p)\n",
    "    c_mod = mod_fraction(*c, p)\n",
    "\n",
    "    # Verify a + b = c (in mod field)\n",
    "    sum_ab_mod = (a_mod + b_mod) % p\n",
    "\n",
    "    # Print results\n",
    "    print(f\"a (mod {p}): {a_mod}\")\n",
    "    print(f\"b (mod {p}): {b_mod}\")\n",
    "    print(f\"c (mod {p}): {c_mod}\")\n",
    "    print(f\"a + b (mod {p}): {sum_ab_mod}\")\n",
    "    print(f\"Verification: {'Pass' if sum_ab_mod == c_mod else 'Fail'}\")"
   ]
  },
  {
   "cell_type": "code",
   "execution_count": 5,
   "id": "38fac464-18b3-4b5f-95c6-07dda71aec1a",
   "metadata": {},
   "outputs": [
    {
     "name": "stdout",
     "output_type": "stream",
     "text": [
      "a (mod 71): 60\n",
      "b (mod 71): 66\n",
      "c (mod 71): 55\n",
      "a + b (mod 71): 55\n",
      "Verification: Pass\n"
     ]
    }
   ],
   "source": [
    "a = (5, 6)\n",
    "b = (11, 12)\n",
    "c = (21, 12)\n",
    "\n",
    "abc_add(a,b,c)"
   ]
  },
  {
   "cell_type": "code",
   "execution_count": 6,
   "id": "1aa106c2-6a67-4000-8a9b-22c069393de7",
   "metadata": {},
   "outputs": [],
   "source": [
    "# Define rationals as (numerator, denominator)\n",
    "def abc_mul(a,b,c):\n",
    "    # Compute elements in finite field\n",
    "    a_mod = mod_fraction(*a, p)\n",
    "    b_mod = mod_fraction(*b, p)\n",
    "    c_mod = mod_fraction(*c, p)\n",
    "\n",
    "    # Verify a * b = c (in mod field)\n",
    "    sum_ab_mod = (a_mod * b_mod) % p\n",
    "\n",
    "    # Print results\n",
    "    print(f\"a (mod {p}): {a_mod}\")\n",
    "    print(f\"b (mod {p}): {b_mod}\")\n",
    "    print(f\"c (mod {p}): {c_mod}\")\n",
    "    print(f\"a + b (mod {p}): {sum_ab_mod}\")\n",
    "    print(f\"Verification: {'Pass' if sum_ab_mod == c_mod else 'Fail'}\")"
   ]
  },
  {
   "cell_type": "code",
   "execution_count": 7,
   "id": "8c375849-3006-4968-bc78-965595f8bd95",
   "metadata": {},
   "outputs": [
    {
     "name": "stdout",
     "output_type": "stream",
     "text": [
      "a (mod 71): 48\n",
      "b (mod 71): 36\n",
      "c (mod 71): 24\n",
      "a + b (mod 71): 24\n",
      "Verification: Pass\n"
     ]
    }
   ],
   "source": [
    "a = (2, 3)\n",
    "b = (1, 2)\n",
    "c = (1, 3)\n",
    "\n",
    "abc_mul(a,b,c)"
   ]
  },
  {
   "cell_type": "code",
   "execution_count": 8,
   "id": "c69dfb6a-f130-4ee4-806f-1db4539850a9",
   "metadata": {},
   "outputs": [],
   "source": [
    "# Function to compute the determinant of a 2x2 matrix\n",
    "def determinant(matrix, p):\n",
    "    a, b, c, d = matrix[0, 0], matrix[0, 1], matrix[1, 0], matrix[1, 1]\n",
    "    return (a * d - b * c) % p\n",
    "\n",
    "# Function to compute the modular inverse of a 2x2 matrix\n",
    "def matrix_inverse_mod(matrix, p):\n",
    "    a, b, c, d = matrix[0, 0], matrix[0, 1], matrix[1, 0], matrix[1, 1]\n",
    "    \n",
    "    # Compute determinant\n",
    "    det = determinant(matrix, p)\n",
    "    \n",
    "    # Find modular inverse of the determinant\n",
    "    det_inv = mod_inverse(det, p)\n",
    "    \n",
    "    # Calculate adjugate matrix (cofactor matrix transposed)\n",
    "    adjugate = np.array([[d, -b], [-c, a]], dtype=int)\n",
    "    \n",
    "    # Apply modular arithmetic to the adjugate\n",
    "    matrix_inv = (det_inv * adjugate) % p\n",
    "    \n",
    "    # Ensure all elements are in [0, p)\n",
    "    matrix_inv = np.mod(matrix_inv, p)\n",
    "    \n",
    "    return matrix_inv"
   ]
  },
  {
   "cell_type": "code",
   "execution_count": 9,
   "id": "14f5584c-0b2f-4bbf-a517-6b5b2bdff98a",
   "metadata": {},
   "outputs": [
    {
     "name": "stdout",
     "output_type": "stream",
     "text": [
      "Original matrix:\n",
      "[[1 1]\n",
      " [1 4]]\n",
      "\n",
      "Inverse matrix (mod 71):\n",
      "[[25 47]\n",
      " [47 24]]\n",
      "\n",
      "Product of matrix and its inverse (mod 71):\n",
      "[[1 0]\n",
      " [0 1]]\n"
     ]
    }
   ],
   "source": [
    "# Example matrix as a NumPy array\n",
    "matrix = np.array([[1, 1], [1, 4]], dtype=int)\n",
    "\n",
    "# Compute the inverse\n",
    "inverse_matrix = matrix_inverse_mod(matrix, p)\n",
    "\n",
    "# Multiply original matrix and its inverse\n",
    "result = (np.dot(matrix, inverse_matrix) % p)\n",
    "\n",
    "# Print results\n",
    "print(\"Original matrix:\")\n",
    "print(matrix)\n",
    "print(\"\\nInverse matrix (mod 71):\")\n",
    "print(inverse_matrix)\n",
    "print(\"\\nProduct of matrix and its inverse (mod 71):\")\n",
    "print(result)"
   ]
  },
  {
   "cell_type": "code",
   "execution_count": 10,
   "id": "d61540be-0f93-4daa-9ad1-019ceb5df354",
   "metadata": {},
   "outputs": [
    {
     "name": "stdout",
     "output_type": "stream",
     "text": [
      "Modular square roots of 12 modulo 71: [15, 56]\n",
      "Verification: 15^2 % 71 = 12\n",
      "Verification: 56^2 % 71 = 12\n"
     ]
    }
   ],
   "source": [
    "# Target value\n",
    "target = 12\n",
    "\n",
    "# Brute-force approach to find modular square root\n",
    "solutions = []\n",
    "for x in range(p):\n",
    "    if (x * x) % p == target:\n",
    "        solutions.append(x)\n",
    "\n",
    "# Print results\n",
    "print(f\"Modular square roots of {target} modulo {p}: {solutions}\")\n",
    "\n",
    "# Verify solutions\n",
    "for x in solutions:\n",
    "    print(f\"Verification: {x}^2 % {p} = {(x * x) % p}\")"
   ]
  },
  {
   "cell_type": "code",
   "execution_count": 11,
   "id": "49e50762-750e-4b5e-a5a0-c1358a92ee87",
   "metadata": {},
   "outputs": [
    {
     "name": "stdout",
     "output_type": "stream",
     "text": [
      "Modular square roots of 12 modulo 71: 15, 56\n",
      "Verification: 15^2 % 71 = 12\n",
      "Verification: 56^2 % 71 = 12\n"
     ]
    }
   ],
   "source": [
    "def modular_sqrt(a, p):\n",
    "    \"\"\"Find a modular square root of a modulo p using Tonelli-Shanks.\"\"\"\n",
    "    # Step 1: Check if a is a quadratic residue\n",
    "    if pow(a, (p - 1) // 2, p) != 1:\n",
    "        raise ValueError(f\"{a} is not a quadratic residue modulo {p}\")\n",
    "    \n",
    "    # Step 2: Factor p-1 as q * 2^s\n",
    "    s = 0\n",
    "    q = p - 1\n",
    "    while q % 2 == 0:\n",
    "        q //= 2\n",
    "        s += 1\n",
    "\n",
    "    # Step 3: Find a quadratic non-residue z\n",
    "    for z in range(2, p):\n",
    "        if pow(z, (p - 1) // 2, p) == p - 1:\n",
    "            break\n",
    "    \n",
    "    # Initialize variables\n",
    "    m = s\n",
    "    c = pow(z, q, p)\n",
    "    t = pow(a, q, p)\n",
    "    r = pow(a, (q + 1) // 2, p)\n",
    "    \n",
    "    # Step 4: Iterate to find the solution\n",
    "    while t != 1:\n",
    "        t2 = t\n",
    "        i = 0\n",
    "        while t2 != 1:\n",
    "            t2 = pow(t2, 2, p)\n",
    "            i += 1\n",
    "        b = pow(c, 2 ** (m - i - 1), p)\n",
    "        m = i\n",
    "        c = pow(b, 2, p)\n",
    "        t = (t * b * b) % p\n",
    "        r = (r * b) % p\n",
    "    \n",
    "    return r, p - r\n",
    "\n",
    "# Example usage\n",
    "p = 71\n",
    "a = 12\n",
    "try:\n",
    "    sqrt1, sqrt2 = modular_sqrt(a, p)\n",
    "    print(f\"Modular square roots of {a} modulo {p}: {sqrt1}, {sqrt2}\")\n",
    "    # Verification\n",
    "    print(f\"Verification: {sqrt1}^2 % {p} = {(sqrt1 * sqrt1) % p}\")\n",
    "    print(f\"Verification: {sqrt2}^2 % {p} = {(sqrt2 * sqrt2) % p}\")\n",
    "except ValueError as e:\n",
    "    print(e)"
   ]
  },
  {
   "cell_type": "code",
   "execution_count": 12,
   "id": "61f2bc95-1ba2-4640-b490-d3daf34c05a6",
   "metadata": {},
   "outputs": [],
   "source": [
    "import galois\n",
    "\n",
    "# Define the Galois field GF(p)\n",
    "GF = galois.GF(p)"
   ]
  },
  {
   "cell_type": "code",
   "execution_count": 13,
   "id": "8669c7de-40ac-47c6-8a40-53020b3dabac",
   "metadata": {},
   "outputs": [],
   "source": [
    "# Define polynomials P(x) and Q(x) over GF(p)\n",
    "P = galois.Poly([52, 24, 61], field=GF)\n",
    "Q = galois.Poly([40, 40, 58], field=GF)  # Format Q(x) = 40x^2 + 40x + 58"
   ]
  },
  {
   "cell_type": "code",
   "execution_count": 14,
   "id": "6593e377-7c3f-4a6d-9a2c-96d8d5673bfa",
   "metadata": {},
   "outputs": [],
   "source": [
    "# Find roots of P(x) and Q(x)\n",
    "roots_P = P.roots()\n",
    "roots_Q = Q.roots()\n",
    "\n",
    "# Compute P(x) + Q(x) and P(x)*Q(x)\n",
    "P_plus_Q = P + Q\n",
    "P_times_Q = P * Q\n",
    "\n",
    "# Find roots of P(x) + Q(x) and P(x)*Q(x)\n",
    "roots_P_plus_Q = P_plus_Q.roots()\n",
    "roots_P_times_Q = P_times_Q.roots()"
   ]
  },
  {
   "cell_type": "code",
   "execution_count": 15,
   "id": "7b9af56e-61d5-456e-9f36-615ad6819ab4",
   "metadata": {},
   "outputs": [
    {
     "name": "stdout",
     "output_type": "stream",
     "text": [
      "Polynomial P(x): 52x^2 + 24x + 61\n",
      "Roots of P(x) (mod 71): [34 42]\n",
      "Polynomial Q(x): 40x^2 + 40x + 58\n",
      "Roots of Q(x) (mod 71): []\n",
      "Polynomial P(x) + Q(x): 21x^2 + 64x + 48\n",
      "Roots of P(x) + Q(x) (mod 71): [46 49]\n",
      "Polynomial P(x) * Q(x): 21x^4 + 58x^3 + 26x^2 + 69x + 59\n",
      "Roots of P(x) * Q(x) (mod 71): [34 42]\n"
     ]
    }
   ],
   "source": [
    "# Print results\n",
    "print(f\"Polynomial P(x): {P}\")\n",
    "print(f\"Roots of P(x) (mod {p}): {roots_P}\")\n",
    "\n",
    "print(f\"Polynomial Q(x): {Q}\")\n",
    "print(f\"Roots of Q(x) (mod {p}): {roots_Q}\")\n",
    "\n",
    "print(f\"Polynomial P(x) + Q(x): {P_plus_Q}\")\n",
    "print(f\"Roots of P(x) + Q(x) (mod {p}): {roots_P_plus_Q}\")\n",
    "\n",
    "print(f\"Polynomial P(x) * Q(x): {P_times_Q}\")\n",
    "print(f\"Roots of P(x) * Q(x) (mod {p}): {roots_P_times_Q}\")"
   ]
  },
  {
   "cell_type": "code",
   "execution_count": 16,
   "id": "0dc1d8f7-b3b6-4f22-a490-7e14a691ec60",
   "metadata": {},
   "outputs": [],
   "source": [
    "def find_line(points, p):\n",
    "    \"\"\"Find the equation of a line f(x) = ax + b passing through given points mod p.\"\"\"\n",
    "    (x1, y1), (x2, y2) = points\n",
    "    \n",
    "    # Calculate slope a = (y2 - y1) / (x2 - x1) mod p\n",
    "    delta_y = (y2 - y1) % p\n",
    "    delta_x = (x2 - x1) % p\n",
    "    a = (delta_y * mod_inverse(delta_x, p)) % p\n",
    "    \n",
    "    # Calculate intercept b = y1 - a * x1 mod p\n",
    "    b = (y1 - a * x1) % p\n",
    "    \n",
    "    return a, b"
   ]
  },
  {
   "cell_type": "code",
   "execution_count": 17,
   "id": "962c40ec-bd33-40b5-90eb-cd2a3d3f5f97",
   "metadata": {},
   "outputs": [
    {
     "name": "stdout",
     "output_type": "stream",
     "text": [
      "The equation of the line is: f(x) = (12 * x + 37) mod 71\n"
     ]
    }
   ],
   "source": [
    "# Define the points\n",
    "points = [(10, 15), (23, 29)]\n",
    "\n",
    "# Find the line equation\n",
    "a, b = find_line(points, p)\n",
    "\n",
    "# Print the line equation\n",
    "print(f\"The equation of the line is: f(x) = ({a} * x + {b}) mod {p}\")"
   ]
  },
  {
   "cell_type": "code",
   "execution_count": 18,
   "id": "7897f471-dbf5-483b-a894-c85b389bf918",
   "metadata": {},
   "outputs": [],
   "source": [
    "def verify_line(a, b, points, p):\n",
    "    \"\"\"Verify that the line f(x) = ax + b passes through the points mod p.\"\"\"\n",
    "    for x, y in points:\n",
    "        assert (a * x + b) % p == y, f\"Failed at point ({x}, {y})\"\n",
    "    print(\"Verification passed for all points!\")"
   ]
  },
  {
   "cell_type": "code",
   "execution_count": 19,
   "id": "59561e11-6b30-49e4-b54e-e81b5b95792e",
   "metadata": {},
   "outputs": [
    {
     "name": "stdout",
     "output_type": "stream",
     "text": [
      "Verification passed for all points!\n"
     ]
    }
   ],
   "source": [
    "# Verify the line\n",
    "verify_line(a, b, points, p)"
   ]
  },
  {
   "cell_type": "code",
   "execution_count": 20,
   "id": "b29f7241-76db-4b37-9b48-3de2e6369b65",
   "metadata": {},
   "outputs": [],
   "source": [
    "def interpolate_polynomial(p, coordinates, verbosity=False):\n",
    "    \"\"\"\n",
    "    Perform Lagrange interpolation over GF(p) and return the interpolating polynomial.\n",
    "    \n",
    "    Parameters:\n",
    "        p (int): Modulus defining the finite field GF(p).\n",
    "        coordinates (list of tuple): List of (x, y) points to interpolate.\n",
    "        verbosity (bool): Whether to print the interpolating polynomial. Default is False.\n",
    "    \n",
    "    Returns:\n",
    "        galois.Poly: The interpolating polynomial over GF(p).\n",
    "    \"\"\"\n",
    "    # Define the finite field\n",
    "    GF = galois.GF(p)\n",
    "    \n",
    "    # Separate x and y coordinates\n",
    "    x_points, y_points = zip(*coordinates)\n",
    "    x_points = GF(x_points)\n",
    "    y_points = GF(y_points)\n",
    "    \n",
    "    # Perform Lagrange interpolation\n",
    "    polynomial = galois.lagrange_poly(x_points, y_points)\n",
    "    \n",
    "    # Print polynomial if verbosity is True\n",
    "    if verbosity:\n",
    "        print(f\"Interpolating polynomial: {polynomial}\")\n",
    "    \n",
    "    return polynomial"
   ]
  },
  {
   "cell_type": "code",
   "execution_count": 21,
   "id": "25c65354-5600-48c8-a582-2b4098ad71bc",
   "metadata": {},
   "outputs": [],
   "source": [
    "# Define the test function\n",
    "def test_interpolate_polynomial():\n",
    "    \"\"\"\n",
    "    Test the interpolate_polynomial function.\n",
    "    \"\"\"\n",
    "    p = 71\n",
    "    coordinates = [(0, 1), (1, 2), (2, 1)]\n",
    "    expected_degree = len(coordinates) - 1  # Polynomial degree should match\n",
    "    polynomial = interpolate_polynomial(p, coordinates, verbosity=True)\n",
    "    \n",
    "    # Verify degree\n",
    "    assert polynomial.degree == expected_degree, \"Incorrect polynomial degree.\"\n",
    "    \n",
    "    # Verify points\n",
    "    GF = galois.GF(p)\n",
    "    for x, y in coordinates:\n",
    "        assert polynomial(GF(x)) == GF(y), f\"f({x}) != {y}\"\n",
    "    print(\"Test passed.\")"
   ]
  },
  {
   "cell_type": "code",
   "execution_count": 22,
   "id": "eb1f0dbd-b220-4280-ad5a-415d1261b09d",
   "metadata": {},
   "outputs": [
    {
     "name": "stdout",
     "output_type": "stream",
     "text": [
      "Interpolating polynomial: 70x^2 + 2x + 1\n",
      "Test passed.\n"
     ]
    }
   ],
   "source": [
    "test_interpolate_polynomial()"
   ]
  },
  {
   "cell_type": "code",
   "execution_count": null,
   "id": "f9cbbee8-c0c3-4959-b30b-85240bb7cb16",
   "metadata": {},
   "outputs": [],
   "source": []
  }
 ],
 "metadata": {
  "kernelspec": {
   "display_name": "Python 3 (ipykernel)",
   "language": "python",
   "name": "python3"
  },
  "language_info": {
   "codemirror_mode": {
    "name": "ipython",
    "version": 3
   },
   "file_extension": ".py",
   "mimetype": "text/x-python",
   "name": "python",
   "nbconvert_exporter": "python",
   "pygments_lexer": "ipython3",
   "version": "3.9.20"
  }
 },
 "nbformat": 4,
 "nbformat_minor": 5
}
